{
 "cells": [
  {
   "cell_type": "markdown",
   "metadata": {},
   "source": [
    "# The Perceptron Algorithm\n",
    "\n",
    "This Jupyter Notebook is dedicated to understanding and implementing the perceptron algorithm on soccer data. You can find the dataset [2022-2023 Soccer Player Stats Dataset](https://www.kaggle.com/datasets/vivovinco/20222023-football-player-stats?resource=download).\n",
    "\n",
    "The following packages are required to run the attached code:\n",
    "\n",
    "- [Plotly](https://plotly.com/python/)\n",
    "\n",
    "- [Plotly Express](https://plotly.com/python/plotly-express/)\n",
    "\n",
    "- [Pandas](https://pandas.pydata.org/docs/)\n",
    "\n",
    "- [Matplotlib.pylab](https://matplotlib.org/2.0.2/api/pyplot_api.html)\n",
    "\n",
    "- [Numpy](https://numpy.org/doc/)\n",
    "\n",
    "- [Seaborn](https://seaborn.pydata.org/)"
   ]
  },
  {
   "cell_type": "markdown",
   "metadata": {},
   "source": [
    "## Setting Up:"
   ]
  },
  {
   "cell_type": "markdown",
   "metadata": {},
   "source": [
    "***\n",
    "Import the necessary modules and the data.\n",
    "***"
   ]
  },
  {
   "cell_type": "code",
   "execution_count": 250,
   "metadata": {},
   "outputs": [],
   "source": [
    "import pandas as pd\n",
    "import numpy as np\n",
    "import matplotlib.pyplot as plt\n",
    "import seaborn as sns\n",
    "\n",
    "#Import the dataset. \n",
    "soccer = pd.read_csv(\"/Users/pstern/Desktop/INDE-577/Datasets/soccer_stats.csv\", encoding='ISO-8859-1', delimiter=';')"
   ]
  },
  {
   "cell_type": "markdown",
   "metadata": {},
   "source": [
    "***\n",
    "Get the predictors (Goals, Assists, Passes into the box, and offsides penalties) as well as what we are predicting (Offense or Defense).\n",
    "***"
   ]
  },
  {
   "cell_type": "code",
   "execution_count": 251,
   "metadata": {},
   "outputs": [],
   "source": [
    "# Filter the data such that we are only including players who have player more than 15 games worth of time.\n",
    "data = soccer[soccer['90s'] >= 15.0]\n",
    "\n",
    "# Just use the first 250 data points.\n",
    "data = data[:250]\n",
    "\n",
    "# For simplification, we will only use a few predictors.\n",
    "predictors = data[['Goals', 'Assists', 'PPA', 'Off', 'ToAtt']]\n",
    "\n",
    "# Now do the same for the position.\n",
    "y = data[['Pos']]\n",
    "\n",
    "# Convert each to a numpy array.\n",
    "y = y.values\n",
    "X = predictors.values"
   ]
  },
  {
   "cell_type": "markdown",
   "metadata": {},
   "source": [
    "***\n",
    "The perceptron algorithm performs binary classification, so we need to make position binary.\n",
    "***"
   ]
  },
  {
   "cell_type": "code",
   "execution_count": 252,
   "metadata": {},
   "outputs": [],
   "source": [
    "# Convert position into a binary variable where -1 is an attacker and 1 is a defender.\n",
    "# I considered forwards, forward/defenders, and forward/midfielders as attackers.\n",
    "y = np.where((y == 'FW') | (y == 'FWDF') | (y == 'FWMF') | (y == 'MFFW'), -1, 1)"
   ]
  },
  {
   "cell_type": "markdown",
   "metadata": {},
   "source": [
    "***\n",
    "Because the players played different amounts of time, we should also normalize the data.\n",
    "***"
   ]
  },
  {
   "cell_type": "code",
   "execution_count": 253,
   "metadata": {},
   "outputs": [],
   "source": [
    "# Get the number of 90s played.\n",
    "ninetys = data['90s'].values\n",
    "\n",
    "# Divide each row by the number of 90s played to normalize.\n",
    "for i in range(X.shape[1]):\n",
    "    if ninetys[i] != 0:\n",
    "        X[:, i] = X[:, i] / ninetys[i]\n"
   ]
  },
  {
   "cell_type": "markdown",
   "metadata": {},
   "source": [
    "## Implementing the Algorithm:"
   ]
  },
  {
   "cell_type": "markdown",
   "metadata": {},
   "source": [
    "***\n",
    "Implement a perceptron class that, for each epoch, makes predictions and calculates the number of errors.\n",
    "***"
   ]
  },
  {
   "cell_type": "code",
   "execution_count": 254,
   "metadata": {},
   "outputs": [],
   "source": [
    "class Perceptron(object):\n",
    "    # Initialize Perceptron object.\n",
    "    def __init__(self, eta = .5, epochs=50):\n",
    "        self.eta = eta\n",
    "        self.epochs = epochs\n",
    "        \n",
    "    def train(self, X, y):\n",
    "        # Initialize random weights.\n",
    "        self.weight = np.random.rand(1 + X.shape[1])\n",
    "        self.errors_ = []\n",
    "        \n",
    "        # Iterate through the epochs.\n",
    "        for _ in range(self.epochs):\n",
    "            errors = 0\n",
    "\n",
    "            # Iterate through each sample in the training set.\n",
    "            for xi, target in zip(X, y):\n",
    "\n",
    "                # Update weights based on the difference between predicted and actual class.\n",
    "                update = self.eta * (self.predict(xi) - target)\n",
    "                self.weight[:-1] -= update * xi\n",
    "                self.weight[-1] -= update\n",
    "\n",
    "                #Keep track of the number of errors.\n",
    "                errors += int(update != 0)\n",
    "\n",
    "            # If there are no errors in this epoch, return.\n",
    "            if errors == 0:\n",
    "                return self\n",
    "            else:\n",
    "                self.errors_.append(errors)\n",
    "            \n",
    "        return self\n",
    "    \n",
    "    def net_input(self, X):\n",
    "        # Calculate net input (sum of weighted inputs plus bias).\n",
    "        return np.dot(X, self.weight[:-1]) + self.weight[-1]\n",
    "    \n",
    "    def predict(self, X):\n",
    "        # Predict class labels based on net input.\n",
    "        return np.where(self.net_input(X) >= 0.0, 1, -1)\n"
   ]
  },
  {
   "cell_type": "markdown",
   "metadata": {},
   "source": [
    "## Applying the Algorithm:"
   ]
  },
  {
   "cell_type": "markdown",
   "metadata": {},
   "source": [
    "***\n",
    "Create an instance of the class to train the model.\n",
    "***"
   ]
  },
  {
   "cell_type": "code",
   "execution_count": 257,
   "metadata": {},
   "outputs": [
    {
     "data": {
      "text/plain": [
       "<__main__.Perceptron at 0x134bdd4d0>"
      ]
     },
     "execution_count": 257,
     "metadata": {},
     "output_type": "execute_result"
    }
   ],
   "source": [
    "# Instantiate an instance of the Perceptron class.\n",
    "ptron = Perceptron(epochs = 500)\n",
    "\n",
    "# Train the model.\n",
    "ptron.train(X, y)"
   ]
  },
  {
   "cell_type": "markdown",
   "metadata": {},
   "source": [
    "***\n",
    "Make predictions.\n",
    "***"
   ]
  },
  {
   "cell_type": "code",
   "execution_count": 258,
   "metadata": {},
   "outputs": [
    {
     "data": {
      "text/plain": [
       "0.812"
      ]
     },
     "execution_count": 258,
     "metadata": {},
     "output_type": "execute_result"
    }
   ],
   "source": [
    "# Predict make predictions based on training.\n",
    "y_hat = ptron.predict(X)\n",
    "\n",
    "# Compare our predictions with reality.\n",
    "sum = 0\n",
    "for i in range(len(y_hat)):\n",
    "    if y_hat[i] == y[i][0]:\n",
    "        sum += 1\n",
    "\n",
    "sum / len(y_hat)"
   ]
  },
  {
   "cell_type": "markdown",
   "metadata": {},
   "source": [
    "***\n",
    "Analyze the results. \n",
    "***"
   ]
  },
  {
   "cell_type": "markdown",
   "metadata": {},
   "source": [
    "The perceptron model made the correct prediction 90% of the time at "
   ]
  },
  {
   "cell_type": "code",
   "execution_count": 262,
   "metadata": {},
   "outputs": [
    {
     "ename": "ModuleNotFoundError",
     "evalue": "No module named 'mlxtend'",
     "output_type": "error",
     "traceback": [
      "\u001b[0;31m---------------------------------------------------------------------------\u001b[0m",
      "\u001b[0;31mModuleNotFoundError\u001b[0m                       Traceback (most recent call last)",
      "Cell \u001b[0;32mIn[262], line 1\u001b[0m\n\u001b[0;32m----> 1\u001b[0m \u001b[38;5;28;01mfrom\u001b[39;00m \u001b[38;5;21;01mmlxtend\u001b[39;00m\u001b[38;5;21;01m.\u001b[39;00m\u001b[38;5;21;01mplotting\u001b[39;00m \u001b[38;5;28;01mimport\u001b[39;00m plot_decision_regions\n\u001b[1;32m      3\u001b[0m plt\u001b[38;5;241m.\u001b[39mfigure(figsize \u001b[38;5;241m=\u001b[39m (\u001b[38;5;241m10\u001b[39m, \u001b[38;5;241m8\u001b[39m))\n\u001b[1;32m      4\u001b[0m plot_decision_regions(X, y, clf \u001b[38;5;241m=\u001b[39m ptron)\n",
      "\u001b[0;31mModuleNotFoundError\u001b[0m: No module named 'mlxtend'"
     ]
    }
   ],
   "source": [
    "from mlxtend.plotting import plot_decision_regions\n",
    "\n",
    "plt.figure(figsize = (10, 8))\n",
    "plot_decision_regions(X, y, clf = ptron)\n",
    "plt.title(\"My First Perceptron\", fontsize = 18)\n",
    "plt.xlabel(\"sepal length [cm]\", fontsize = 15)\n",
    "plt.ylabel(\"petal length [cm]\", fontsize = 15)\n",
    "plt.show()"
   ]
  }
 ],
 "metadata": {
  "kernelspec": {
   "display_name": "base",
   "language": "python",
   "name": "python3"
  },
  "language_info": {
   "codemirror_mode": {
    "name": "ipython",
    "version": 3
   },
   "file_extension": ".py",
   "mimetype": "text/x-python",
   "name": "python",
   "nbconvert_exporter": "python",
   "pygments_lexer": "ipython3",
   "version": "3.11.5"
  }
 },
 "nbformat": 4,
 "nbformat_minor": 2
}
