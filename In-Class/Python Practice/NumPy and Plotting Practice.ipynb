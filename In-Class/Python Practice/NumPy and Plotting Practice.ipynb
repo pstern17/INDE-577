{
 "cells": [
  {
   "cell_type": "markdown",
   "metadata": {},
   "source": [
    "# Python Practice using NumPy and Plotting\n",
    "\n",
    "This Jupyter Notebook is dedicated to practicing Python programming with the help of the NumPy library for numerical computations and the Matplotlib library for data visualization.\n"
   ]
  },
  {
   "cell_type": "code",
   "execution_count": 2,
   "metadata": {},
   "outputs": [
    {
     "name": "stdout",
     "output_type": "stream",
     "text": [
      "hello world\n"
     ]
    }
   ],
   "source": [
    "print(\"hello world\")"
   ]
  },
  {
   "cell_type": "code",
   "execution_count": 7,
   "metadata": {},
   "outputs": [
    {
     "name": "stdout",
     "output_type": "stream",
     "text": [
      "[1 2 3 4 5]\n",
      "(5,)\n",
      "int64\n",
      "The mean value of the array is 3.0\n",
      "The max value of the array is 5\n",
      "The index of the max of value of the array is 4\n",
      "The dot product is 29.0\n"
     ]
    }
   ],
   "source": [
    "import numpy as np\n",
    "\n",
    "#Practicing with numpy arrays. \n",
    "array1 = np.array([1,2,3,4,5])\n",
    "array2 = np.array([2.0,1.0,3.0,4.0,0])\n",
    "\n",
    "print(array1)\n",
    "print(array1.shape)\n",
    "print(array1.dtype)\n",
    "\n",
    "#Using methods. \n",
    "print(\"The mean value of the array is \" + str(array1.mean()))\n",
    "print(\"The max value of the array is \" + str(array1.max()))\n",
    "print(\"The index of the max of value of the array is \" + str(array1.argmax()))\n",
    "print(\"The dot product is \" + str(np.dot(array1,array2)))\n",
    "\n",
    "#Note that numpy also has a random module. "
   ]
  },
  {
   "cell_type": "code",
   "execution_count": 1,
   "metadata": {},
   "outputs": [
    {
     "ename": "NameError",
     "evalue": "name 'np' is not defined",
     "output_type": "error",
     "traceback": [
      "\u001b[0;31m---------------------------------------------------------------------------\u001b[0m",
      "\u001b[0;31mNameError\u001b[0m                                 Traceback (most recent call last)",
      "Cell \u001b[0;32mIn[1], line 4\u001b[0m\n\u001b[1;32m      1\u001b[0m \u001b[38;5;28;01mimport\u001b[39;00m \u001b[38;5;21;01mmatplotlib\u001b[39;00m\u001b[38;5;21;01m.\u001b[39;00m\u001b[38;5;21;01mpyplot\u001b[39;00m \u001b[38;5;28;01mas\u001b[39;00m \u001b[38;5;21;01mplt\u001b[39;00m\n\u001b[1;32m      3\u001b[0m \u001b[38;5;66;03m#Get the x and y data. \u001b[39;00m\n\u001b[0;32m----> 4\u001b[0m x \u001b[38;5;241m=\u001b[39m np\u001b[38;5;241m.\u001b[39marray([\u001b[38;5;241m2\u001b[39m,\u001b[38;5;241m3\u001b[39m,\u001b[38;5;241m5\u001b[39m,\u001b[38;5;241m9\u001b[39m,\u001b[38;5;241m12\u001b[39m])\n\u001b[1;32m      5\u001b[0m y \u001b[38;5;241m=\u001b[39m [x[i]\u001b[38;5;241m*\u001b[39m\u001b[38;5;241m*\u001b[39m\u001b[38;5;241m3\u001b[39m \u001b[38;5;28;01mfor\u001b[39;00m i \u001b[38;5;129;01min\u001b[39;00m \u001b[38;5;28mrange\u001b[39m(\u001b[38;5;28mlen\u001b[39m(x))]\n\u001b[1;32m      7\u001b[0m \u001b[38;5;66;03m#Adjust the axis labels\u001b[39;00m\n",
      "\u001b[0;31mNameError\u001b[0m: name 'np' is not defined"
     ]
    }
   ],
   "source": [
    "import matplotlib.pyplot as plt\n",
    "\n",
    "#Get the x and y data. \n",
    "x = np.array([2,3,5,9,12])\n",
    "y = [x[i]**3 for i in range(len(x))]\n",
    "\n",
    "#Adjust the axis labels\n",
    "plt.xlabel('Value of x')\n",
    "plt.ylabel('Value of x^3')\n",
    "\n",
    "#Plot the data. \n",
    "plt.plot(x,y, label = \"f(x) = x^3\", color = green)\n",
    "\n",
    "#Add a title, a grid, and a legend\n",
    "plt.legend()\n",
    "plt.title(\"Plot of x vs. x^3\")\n",
    "plt.grid()\n",
    "\n",
    "plt.show()"
   ]
  },
  {
   "cell_type": "code",
   "execution_count": null,
   "metadata": {},
   "outputs": [],
   "source": []
  }
 ],
 "metadata": {
  "kernelspec": {
   "display_name": "base",
   "language": "python",
   "name": "python3"
  },
  "language_info": {
   "codemirror_mode": {
    "name": "ipython",
    "version": 3
   },
   "file_extension": ".py",
   "mimetype": "text/x-python",
   "name": "python",
   "nbconvert_exporter": "python",
   "pygments_lexer": "ipython3",
   "version": "3.11.5"
  },
  "orig_nbformat": 4,
  "vscode": {
   "interpreter": {
    "hash": "93af8ca01fea5014b5320a994f37340fef071226bd007ba5ec7f87c76ac88b5c"
   }
  }
 },
 "nbformat": 4,
 "nbformat_minor": 2
}
