{
 "cells": [
  {
   "cell_type": "markdown",
   "metadata": {},
   "source": [
    "# General Python Practice\n",
    "\n",
    "This Jupyter Notebook is dedicated to practicing Python programming principles."
   ]
  },
  {
   "cell_type": "markdown",
   "metadata": {},
   "source": [
    "***\n",
    "Python Strings:\n",
    "***"
   ]
  },
  {
   "cell_type": "code",
   "execution_count": 4,
   "metadata": {},
   "outputs": [
    {
     "name": "stdout",
     "output_type": "stream",
     "text": [
      "Hello, World!\n",
      "H\n",
      "['Hello', ' World!']\n",
      "HELLO, WORLD!\n",
      "!dlroW ,olleH\n",
      "Hi, World!\n"
     ]
    }
   ],
   "source": [
    "string = \"Hello, World!\"\n",
    "\n",
    "# Expected Output: Hello, World!\n",
    "print(string)\n",
    "\n",
    "# Expected Output: H.\n",
    "print(string[0])\n",
    "\n",
    "# Expected Output: ['Hello', ' World!'].\n",
    "print(string.split(\",\"))\n",
    "\n",
    "# Expected Output: HELLO, WORLD!\n",
    "print(string.upper())\n",
    "\n",
    "#Put the string in reverse order.\n",
    "reversed_sentence = string[::-1]\n",
    "\n",
    "# Expected Output: !dlroW ,olleH.\n",
    "print(reversed_sentence)  \n",
    "\n",
    "# Replace \"Hello\" with \"Hi\".\n",
    "new_sentence = string.replace(\"Hello\", \"Hi\")\n",
    "\n",
    "# Expected Output: Hi, World!\n",
    "print(new_sentence)"
   ]
  },
  {
   "cell_type": "markdown",
   "metadata": {},
   "source": [
    "***\n",
    "Lists, Tuples, and Sets:\n",
    "***"
   ]
  },
  {
   "cell_type": "code",
   "execution_count": 10,
   "metadata": {},
   "outputs": [
    {
     "name": "stdout",
     "output_type": "stream",
     "text": [
      "[1, 2, 3, 4, 5]\n",
      "(1, 2, 3, 4, 5)\n",
      "{1, 2, 3, 4, 5}\n",
      "[1, 4, 9, 16, 25]\n",
      "{1, 2, 3, 4, 5, 6}\n",
      "{1, 2, 3, 4, 5, 6}\n",
      "4\n"
     ]
    }
   ],
   "source": [
    "# Initialize a list, tuple, and set.\n",
    "my_list = [1, 2, 3, 4, 5]\n",
    "my_tuple = (1, 2, 3, 4, 5)\n",
    "my_set = {1, 2, 3, 4, 5}\n",
    "\n",
    "# Expected Output: [1, 2, 3, 4, 5].\n",
    "print(my_list)  \n",
    "\n",
    "# Expected Output: (1, 2, 3, 4, 5).\n",
    "print(my_tuple)\n",
    "\n",
    "# Expected Output: {1, 2, 3, 4, 5}.\n",
    "print(my_set)  \n",
    "\n",
    "# Use a list comprehension to square each number in the list.\n",
    "squared_numbers = [x**2 for x in my_list]\n",
    "\n",
    " # Expected Output: [1, 4, 9, 16, 25].\n",
    "print(squared_numbers)\n",
    "\n",
    "# Add an element to the set. \n",
    "my_set.add(6)\n",
    "\n",
    "# Expected Output: {1, 2, 3, 4, 5, 6}.\n",
    "print(my_set) \n",
    "\n",
    "# Sets do not allow duplicates.\n",
    "my_set.add(1) \n",
    "\n",
    "# Expected Output: {1, 2, 3, 4, 5, 6}.\n",
    "print(my_set) \n",
    "\n",
    "# Access the 4th element of the tuple.\n",
    "fourth = my_tuple[3]\n",
    "\n",
    "# Expected Output: 4.\n",
    "print(fourth)"
   ]
  },
  {
   "cell_type": "markdown",
   "metadata": {},
   "source": [
    "***\n",
    "Dictionaries:\n",
    "***"
   ]
  },
  {
   "cell_type": "code",
   "execution_count": 14,
   "metadata": {},
   "outputs": [
    {
     "name": "stdout",
     "output_type": "stream",
     "text": [
      "30\n",
      "{'name': 'John', 'age': 30, 'city': 'New York', 'occupation': 'Engineer', 'salary': 50000}\n",
      "{'name': 'John', 'age': 30, 'occupation': 'Engineer', 'salary': 50000}\n"
     ]
    }
   ],
   "source": [
    "# Initialize a dictionary.\n",
    "my_dict = {'name': 'John', 'age': 30, 'city': 'New York'}\n",
    "\n",
    "# Accessing dictionary values using get with a default value.\n",
    "age = my_dict.get('age')\n",
    "\n",
    "# Expected Output: 30.\n",
    "print(age)\n",
    "\n",
    "# Merging two dictionaries\n",
    "additional_info = {'occupation': 'Engineer', 'salary': 50000}\n",
    "my_dict.update(additional_info)\n",
    "\n",
    "# Expected Output: {'name': 'John', 'age': 30, 'city': 'New York', 'occupation': 'Engineer', 'salary': 50000}.\n",
    "print(my_dict)\n",
    "\n",
    "#Removing a vlaue from the dictionary\n",
    "my_dict.pop('city')\n",
    "\n",
    "# Expected Output: {'name': 'John', 'age': 30, 'occupation': 'Engineer', 'salary': 50000}.\n",
    "print(my_dict)\n"
   ]
  },
  {
   "cell_type": "markdown",
   "metadata": {},
   "source": [
    "***\n",
    "Conditionals, Loops, and Comprehensions:\n",
    "***"
   ]
  },
  {
   "cell_type": "code",
   "execution_count": 15,
   "metadata": {},
   "outputs": [
    {
     "name": "stdout",
     "output_type": "stream",
     "text": [
      "1 is odd\n",
      "2 is even\n",
      "3 is odd\n",
      "4 is even\n",
      "5 is odd\n",
      "[2, 4]\n"
     ]
    }
   ],
   "source": [
    "# Initialize a list of numbers.\n",
    "numbers = [1, 2, 3, 4, 5]\n",
    "\n",
    "# Loop through the list and print whether each number is even or odd.\n",
    "for num in numbers:\n",
    "\n",
    "    # Check if the number is even or odd.\n",
    "    if num % 2 == 0:\n",
    "        print(f\"{num} is even\")\n",
    "    else:\n",
    "        print(f\"{num} is odd\")\n",
    "\n",
    "# Create a list comprehension with condition.\n",
    "even_numbers = [x for x in numbers if x % 2 == 0]\n",
    "\n",
    "# Expected Output: [2, 4].\n",
    "print(even_numbers)"
   ]
  },
  {
   "cell_type": "markdown",
   "metadata": {},
   "source": [
    "***\n",
    "Functions and Exceptions:\n",
    "***"
   ]
  },
  {
   "cell_type": "code",
   "execution_count": 16,
   "metadata": {},
   "outputs": [
    {
     "name": "stdout",
     "output_type": "stream",
     "text": [
      "5.0\n",
      "Error: division by zero\n",
      "None\n",
      "Error: unsupported operand type(s) for /: 'int' and 'str'\n",
      "None\n"
     ]
    }
   ],
   "source": [
    "# Define a function that takes two arguments and returns their sum.\n",
    "def divide(x, y):\n",
    "    try:\n",
    "        result = x / y\n",
    "\n",
    "    #Include an excpetion error\n",
    "    except ZeroDivisionError as e:\n",
    "        print(f\"Error: {e}\")\n",
    "    else:\n",
    "        return result\n",
    "\n",
    "# Define another function that takes two arguments and returns their division.\n",
    "def perform_operation(x, y):\n",
    "    try:\n",
    "        result = x / y\n",
    "\n",
    "    #Check for division by 0.\n",
    "    except ZeroDivisionError as e:\n",
    "        print(f\"Error: {e}\")\n",
    "        \n",
    "    #Check for unsupported operand types.\n",
    "    except TypeError as e:\n",
    "        print(f\"Error: {e}\")\n",
    "    else:\n",
    "        return result\n",
    "\n",
    "# Expected Output: 5.0.\n",
    "print(divide(10, 2))\n",
    "\n",
    "# Output: Error: division by zero\n",
    "print(divide(10, 0)) \n",
    "\n",
    "# Expected Output: unsupported operand type(s) for /: 'int' and 'str'\n",
    "print(perform_operation(10, '2')) "
   ]
  },
  {
   "cell_type": "markdown",
   "metadata": {},
   "source": [
    "***\n",
    "Python Classes:\n",
    "***"
   ]
  },
  {
   "cell_type": "code",
   "execution_count": null,
   "metadata": {},
   "outputs": [],
   "source": [
    "# Initialize a class named Person.\n",
    "class Person:\n",
    "    # Set the initial values. \n",
    "    def __init__(self, name, age):\n",
    "        self.name = name\n",
    "        self.age = age\n",
    "        self.hobbies = []\n",
    "\n",
    "    # Define a method to add hobbies.\n",
    "    def add_hobby(self, hobby):\n",
    "        self.hobbies.append(hobby)\n",
    "\n",
    "    # Define a method to show hobbies.\n",
    "    def show_hobbies(self):\n",
    "        if self.hobbies:\n",
    "            print(f\"{self.name}'s hobbies are: {', '.join(self.hobbies)}\")\n",
    "        else:\n",
    "            print(f\"{self.name} has no hobbies.\")\n",
    "\n",
    "# Creating an instance of the class.\n",
    "person1 = Person(\"Alice\", 25)\n",
    "person1.add_hobby(\"Reading\")\n",
    "person1.add_hobby(\"Painting\")\n",
    "\n",
    "# Expected Output: Alice's hobbies are: Reading, Painting.\n",
    "person1.show_hobbies() "
   ]
  }
 ],
 "metadata": {
  "kernelspec": {
   "display_name": "base",
   "language": "python",
   "name": "python3"
  },
  "language_info": {
   "codemirror_mode": {
    "name": "ipython",
    "version": 3
   },
   "file_extension": ".py",
   "mimetype": "text/x-python",
   "name": "python",
   "nbconvert_exporter": "python",
   "pygments_lexer": "ipython3",
   "version": "3.11.5"
  }
 },
 "nbformat": 4,
 "nbformat_minor": 2
}
